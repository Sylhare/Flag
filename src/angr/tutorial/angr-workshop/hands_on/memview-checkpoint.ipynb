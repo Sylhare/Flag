{
 "cells": [
  {
   "cell_type": "code",
   "execution_count": 1,
   "metadata": {},
   "outputs": [
    {
     "name": "stderr",
     "output_type": "stream",
     "text": [
      "WARNING | 2019-05-16 19:57:21,771 | \u001b[36mcle.loader\u001b[0m | \u001b[36mThe main binary is a position-independent executable. It is being loaded with a base address of 0x400000.\u001b[0m\n",
      "WARNING | 2019-05-16 19:57:21,818 | \u001b[32mangr.state_plugins.symbolic_memory\u001b[0m | \u001b[32mThe program is accessing memory or registers with an unspecified value. This could indicate unwanted behavior.\u001b[0m\n",
      "WARNING | 2019-05-16 19:57:21,819 | \u001b[32mangr.state_plugins.symbolic_memory\u001b[0m | \u001b[32mangr will cope with this by generating an unconstrained symbolic variable and continuing. You can resolve this by:\u001b[0m\n",
      "WARNING | 2019-05-16 19:57:21,820 | \u001b[32mangr.state_plugins.symbolic_memory\u001b[0m | \u001b[32m1) setting a value to the initial state\u001b[0m\n",
      "WARNING | 2019-05-16 19:57:21,821 | \u001b[32mangr.state_plugins.symbolic_memory\u001b[0m | \u001b[32m2) adding the state option ZERO_FILL_UNCONSTRAINED_{MEMORY,REGISTERS}, to make unknown regions hold null\u001b[0m\n",
      "WARNING | 2019-05-16 19:57:21,822 | \u001b[32mangr.state_plugins.symbolic_memory\u001b[0m | \u001b[32m3) adding the state option SYMBOL_FILL_UNCONSTRAINED_{MEMORY_REGISTERS}, to suppress these messages.\u001b[0m\n",
      "WARNING | 2019-05-16 19:57:21,824 | \u001b[32mangr.state_plugins.symbolic_memory\u001b[0m | \u001b[32mFilling memory at 0x7fffffff with 8 unconstrained bytes referenced from 0x401049 (_start+0x9 in memview.elf (0x1049))\u001b[0m\n"
     ]
    }
   ],
   "source": [
    "import angr\n",
    "import angrcli.plugins.context_view\n",
    "import angrcli.plugins.watches\n",
    "from angrcli.interaction.explore import ExploreInteractive\n",
    "\n",
    "#import angr.sim_state\n",
    "#angr.sim_state.SimState.__repr__ = lambda self: self.context_view.pprint()\n",
    "\n",
    "\n",
    "proj = angr.Project(\"./memview.elf\",\n",
    "                    load_options={'auto_load_libs': False})\n",
    "cfg = proj.analyses.CFGFast()\n",
    "\n",
    "state = proj.factory.entry_state()\n",
    "e = ExploreInteractive(proj, state)\n"
   ]
  },
  {
   "cell_type": "code",
   "execution_count": 2,
   "metadata": {},
   "outputs": [],
   "source": [
    "# Task 1\n",
    "# Find the addr of the global struct\n",
    "# angr has a knowledge base plugin to parse specific symbols into memory labels, \n",
    "\n",
    "struct_addr = proj.kb.labels.lookup('global_struct')\n",
    " "
   ]
  },
  {
   "cell_type": "code",
   "execution_count": 3,
   "metadata": {},
   "outputs": [],
   "source": [
    "angr.types.define_struct(\"\"\"\n",
    "struct example_struct {\n",
    "   int f_integer;\n",
    "   char f_string[4];\n",
    "   char* f_pointer;\n",
    "};\n",
    "\"\"\")\n",
    "state.watches.add_watch(lambda state: state.mem[struct_addr].example_struct, 'struct watch')"
   ]
  },
  {
   "cell_type": "code",
   "execution_count": 4,
   "metadata": {},
   "outputs": [],
   "source": [
    "#e.state.mem[proj.kb.labels.lookup('global_struct')].example_struct.f_pointer.deref.string.concrete"
   ]
  },
  {
   "cell_type": "code",
   "execution_count": null,
   "metadata": {},
   "outputs": [],
   "source": []
  }
 ],
 "metadata": {
  "kernelspec": {
   "display_name": "angr",
   "language": "python",
   "name": "angr"
  },
  "language_info": {
   "codemirror_mode": {
    "name": "ipython",
    "version": 3
   },
   "file_extension": ".py",
   "mimetype": "text/x-python",
   "name": "python",
   "nbconvert_exporter": "python",
   "pygments_lexer": "ipython3",
   "version": "3.6.7"
  }
 },
 "nbformat": 4,
 "nbformat_minor": 2
}
