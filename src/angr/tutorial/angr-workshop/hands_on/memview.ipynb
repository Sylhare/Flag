{
 "cells": [
  {
   "cell_type": "code",
   "execution_count": null,
   "metadata": {},
   "outputs": [
    {
     "name": "stderr",
     "output_type": "stream",
     "text": [
      "WARNING | 2019-05-10 14:17:14,474 | \u001b[36mcle.loader\u001b[0m | \u001b[36mThe main binary is a position-independent executable. It is being loaded with a base address of 0x400000.\u001b[0m\n",
      "WARNING | 2019-05-10 14:17:14,562 | \u001b[34mangr.analyses.cfg.cfg_fast\u001b[0m | \u001b[34m__libc_start_main is supposed to yield new exits, but it fails to do so.\u001b[0m\n"
     ]
    }
   ],
   "source": [
    "import angr\n",
    "import angrcli.plugins.watches\n",
    "\n",
    "import angrcli.plugins.context_view\n",
    "\n",
    "#import angr.sim_state\n",
    "#angr.sim_state.SimState.__repr__ = lambda self: self.context_view.pprint()\n",
    "\n",
    "from angrcli.interaction.explore import ExploreInteractive\n",
    "\n",
    "\n",
    "proj = angr.Project(\"./memview.elf\",\n",
    "                    load_options={'auto_load_libs': False})\n",
    "cfg = proj.analyses.CFGFast()\n",
    "\n",
    "state = proj.factory.entry_state()\n",
    "e = ExploreInteractive(proj,state)"
   ]
  },
  {
   "cell_type": "code",
   "execution_count": 2,
   "metadata": {},
   "outputs": [],
   "source": [
    "# Task 1\n",
    "# Find the addr of the global struct\n",
    "# angr has a knowledge base plugin to parse specific symbols into memory labels, \n",
    "\n",
    "struct_addr = proj.kb.labels.lookup('global_struct')\n",
    " "
   ]
  },
  {
   "cell_type": "code",
   "execution_count": 3,
   "metadata": {},
   "outputs": [],
   "source": [
    "angr.types.define_struct(\"\"\"\n",
    "struct example_struct {\n",
    "   int f_integer;\n",
    "   char f_string[4];\n",
    "   char* f_pointer;\n",
    "};\n",
    "\"\"\")\n",
    "state.watches.add_watch(lambda state: state.mem[struct_addr].example_struct, 'struct watch')"
   ]
  },
  {
   "cell_type": "code",
   "execution_count": 5,
   "metadata": {},
   "outputs": [],
   "source": [
    "#e.state.mem[proj.kb.labels.lookup('global_struct')].example_struct.f_pointer.deref.string.concrete"
   ]
  }
 ],
 "metadata": {
  "kernelspec": {
   "display_name": "angr",
   "language": "python",
   "name": "angr"
  },
  "language_info": {
   "codemirror_mode": {
    "name": "ipython",
    "version": 3
   },
   "file_extension": ".py",
   "mimetype": "text/x-python",
   "name": "python",
   "nbconvert_exporter": "python",
   "pygments_lexer": "ipython3",
   "version": "3.7.3"
  }
 },
 "nbformat": 4,
 "nbformat_minor": 2
}
