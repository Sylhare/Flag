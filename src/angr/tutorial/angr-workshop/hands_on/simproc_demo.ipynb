{
 "cells": [
  {
   "cell_type": "code",
   "execution_count": 1,
   "metadata": {},
   "outputs": [],
   "source": [
    "import angr\n",
    "import angrcli.plugins.context_view\n",
    "import angrcli.plugins.watches\n",
    "\n",
    "from angrcli.interaction.explore import ExploreInteractive"
   ]
  },
  {
   "cell_type": "code",
   "execution_count": 5,
   "metadata": {},
   "outputs": [
    {
     "name": "stderr",
     "output_type": "stream",
     "text": [
      "WARNING | 2019-05-10 15:07:14,263 | \u001b[36mcle.loader\u001b[0m | \u001b[36mThe main binary is a position-independent executable. It is being loaded with a base address of 0x400000.\u001b[0m\n",
      "WARNING | 2019-05-10 15:07:14,350 | \u001b[34mangr.analyses.cfg.cfg_fast\u001b[0m | \u001b[34m__libc_start_main is supposed to yield new exits, but it fails to do so.\u001b[0m\n"
     ]
    }
   ],
   "source": [
    "proj = angr.Project(\"./simproc_demo.elf\", load_options={'auto_load_libs': False})\n",
    "cfg = proj.analyses.CFGFast()\n",
    "argv1 = \"FOOBAR\"\n",
    "state = proj.factory.entry_state()\n",
    "\n",
    "e = ExploreInteractive(proj, state)\n"
   ]
  },
  {
   "cell_type": "code",
   "execution_count": null,
   "metadata": {},
   "outputs": [],
   "source": []
  }
 ],
 "metadata": {
  "kernelspec": {
   "display_name": "angr",
   "language": "python",
   "name": "angr"
  },
  "language_info": {
   "codemirror_mode": {
    "name": "ipython",
    "version": 3
   },
   "file_extension": ".py",
   "mimetype": "text/x-python",
   "name": "python",
   "nbconvert_exporter": "python",
   "pygments_lexer": "ipython3",
   "version": "3.7.3"
  }
 },
 "nbformat": 4,
 "nbformat_minor": 2
}
